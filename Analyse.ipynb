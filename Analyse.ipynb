{
 "cells": [
  {
   "cell_type": "code",
   "execution_count": 1,
   "id": "5c1b5510",
   "metadata": {},
   "outputs": [],
   "source": [
    "import matplotlib.pyplot as plt\n",
    "import pandas as pd\n",
    "import numpy as np\n",
    "import os\n",
    "import re\n",
    "import matplotlib"
   ]
  },
  {
   "cell_type": "code",
   "execution_count": 2,
   "id": "a7f982a8",
   "metadata": {},
   "outputs": [],
   "source": [
    "coloree=list(matplotlib.colors.cnames.keys())\n",
    "hatchee=['','/', '|', '-', '+', 'x', 'o', 'O', '.', '*']\n",
    "linestylee=['solid', 'dashed', 'dashdot', 'dotted']\n",
    "barwidthee=[i for i in range(10)]\n",
    "#Diagramme en kiviat\n",
    "#diagramme_kiviat(skills,prcntg,colorxaxis,coloryaxis,linestyle,edgecolor)\n",
    "#Set default:\n",
    "coloryaxis='blue'\n",
    "colorxaxis='blue'\n",
    "linestyle='solid'\n",
    "edgecolor='blue'\n",
    "#Diagramme en baton\n",
    "#diagramme_baton(skills2,note,hatch1,hatch2,colorlinewidth,colorbarfilled,colorline,colorlinenonefilled,linestyle,barwidth)\n",
    "#Set default:\n",
    "colorlinewidth='blue'\n",
    "colorbarfilled='green'\n",
    "colorline='black'\n",
    "colorlinenonefilled='white'\n",
    "hatch1=''\n",
    "hatch2='-'\n",
    "linestyle='solid'\n",
    "barwidth=1"
   ]
  },
  {
   "cell_type": "markdown",
   "id": "3880d925",
   "metadata": {},
   "source": [
    "-----------------------Extraction des flagstats----------------------------------------------"
   ]
  },
  {
   "cell_type": "code",
   "execution_count": 162,
   "id": "4886f5fd",
   "metadata": {},
   "outputs": [
    {
     "data": {
      "text/plain": [
       "{'66': '92.95%',\n",
       " '88': '94.67%',\n",
       " '52': '95.47%',\n",
       " '53': '94.08%',\n",
       " '54': '95.03%',\n",
       " '67': '97.33%',\n",
       " '68': '96.27%',\n",
       " '69': '96.59%',\n",
       " '70': '50.03%',\n",
       " '71': '89.79%',\n",
       " '72': '72.91%',\n",
       " '73': '95.72%',\n",
       " '74': '96.61%',\n",
       " '75': '68.05%',\n",
       " '76': '61.18%',\n",
       " '77': '94.65%',\n",
       " '78': '94.26%',\n",
       " '79': '93.51%',\n",
       " '80': '64.24%',\n",
       " '81': '98.28%',\n",
       " '82': '97.02%',\n",
       " '83': '94.50%',\n",
       " '84': '95.26%',\n",
       " '85': '64.94%',\n",
       " '86': '96.59%',\n",
       " '87': '98.71%'}"
      ]
     },
     "execution_count": 162,
     "metadata": {},
     "output_type": "execute_result"
    }
   ],
   "source": [
    "\n",
    "dicte_of_mapped={}\n",
    "for i in os.listdir():\n",
    "    if i[:4]==\"flag\":\n",
    "        flags=pd.read_csv(i)\n",
    "        dicte_of_mapped[i[-6:-4]]=re.findall('\\d\\d.\\d*%', flags.loc[3][0])[0]\n",
    "dicte_of_mapped"
   ]
  },
  {
   "cell_type": "code",
   "execution_count": 81,
   "id": "3a6bab96",
   "metadata": {},
   "outputs": [
    {
     "data": {
      "text/plain": [
       "{'moins de 40%': 0,\n",
       " 'Entre 40%-60%': 1,\n",
       " 'Entre 60%-80%': 5,\n",
       " 'Entre 80%-100%': 20}"
      ]
     },
     "execution_count": 81,
     "metadata": {},
     "output_type": "execute_result"
    }
   ],
   "source": [
    "dicte_mapped_diagr={}\n",
    "dicte_mapped_diagr[\"moins de 40%\"]=len([i for i,j in dicte_of_mapped.items() if int(j[0]+j[1])<=40 ])\n",
    "dicte_mapped_diagr[\"Entre 40%-60%\"]=len([i for i,j in dicte_of_mapped.items() if (40<=int(j[0]+j[1])<=60) ])\n",
    "dicte_mapped_diagr[\"Entre 60%-80%\"]=len([i for i,j in dicte_of_mapped.items() if (60<=int(j[0]+j[1])<=80) ])\n",
    "dicte_mapped_diagr[\"Entre 80%-100%\"]=len([i for i,j in dicte_of_mapped.items() if (80<=int(j[0]+j[1])<=100) ])\n",
    "dicte_mapped_diagr"
   ]
  },
  {
   "cell_type": "code",
   "execution_count": 160,
   "id": "80c75df1",
   "metadata": {},
   "outputs": [],
   "source": [
    "a=list(dicte_mapped_diagr.keys())\n",
    "b=list(dicte_mapped_diagr.values())\n",
    "def diagramme_circulaire(prcntg,nbr_sample):  \n",
    "    explode=(0,)*(len(prcntg))\n",
    "    plt.pie(nbr_sample, explode=explode, labels=prcntg,autopct=lambda p: '{:.2f}%({:.0f})'.format(p,(p/100)*26), startangle=20, shadow=True,)\n",
    "   # plt.axis('equal')\n",
    "    return plt.show()\n",
    "def run_circulaire(a,b):\n",
    "    diagramme_circulaire(a,b)"
   ]
  },
  {
   "cell_type": "code",
   "execution_count": 161,
   "id": "59ae37c9",
   "metadata": {},
   "outputs": [
    {
     "data": {
      "image/png": "[encoded data removed]",
      "text/plain": [
       "<Figure size 432x288 with 1 Axes>"
      ]
     },
     "metadata": {},
     "output_type": "display_data"
    }
   ],
   "source": [
    "run_circulaire(a,b)"
   ]
  },
  {
   "cell_type": "code",
   "execution_count": 11,
   "id": "f0835fe8",
   "metadata": {},
   "outputs": [
    {
     "data": {
      "text/plain": [
       "[('70', '50.03%'),\n",
       " ('76', '61.18%'),\n",
       " ('80', '64.24%'),\n",
       " ('85', '64.94%'),\n",
       " ('75', '68.05%'),\n",
       " ('72', '72.91%'),\n",
       " ('71', '89.79%'),\n",
       " ('66', '92.95%'),\n",
       " ('79', '93.51%'),\n",
       " ('53', '94.08%'),\n",
       " ('78', '94.26%'),\n",
       " ('83', '94.50%'),\n",
       " ('77', '94.65%'),\n",
       " ('88', '94.67%'),\n",
       " ('54', '95.03%'),\n",
       " ('84', '95.26%'),\n",
       " ('52', '95.47%'),\n",
       " ('73', '95.72%'),\n",
       " ('68', '96.27%'),\n",
       " ('69', '96.59%'),\n",
       " ('86', '96.59%'),\n",
       " ('74', '96.61%'),\n",
       " ('82', '97.02%'),\n",
       " ('67', '97.33%'),\n",
       " ('81', '98.28%'),\n",
       " ('87', '98.71%')]"
      ]
     },
     "execution_count": 11,
     "metadata": {},
     "output_type": "execute_result"
    }
   ],
   "source": [
    "dicte_of_mapped = sorted(dicte_of_mapped.items(), key=lambda x: x[1], reverse=False)\n",
    "dicte_of_mapped"
   ]
  },
  {
   "cell_type": "markdown",
   "id": "375643d1",
   "metadata": {},
   "source": [
    "n_reads are the total number of reads\n",
    "\n",
    "n_pair_all : the read is paired in sequencing, no matter whether it is mapped in a pair\n",
    "\n",
    "n_pair_good : the read is mapped in a proper pair\n",
    "\n",
    "n_read1 : count read1\n",
    "\n",
    "n_read2 : count read2\n",
    "\n",
    "n_sgltn : the read itself is unmapped the mate is mapped\n",
    "\n",
    "n_pair_map: the read itself is mapped the mate is unmapped\n",
    "\n",
    "n_diffchr: number of reads with a mate mapped on a different chromosome\n",
    "\n",
    "n_diffhigh: number of reads with a mate on a different chromosome having a quality greater than 5\n"
   ]
  },
  {
   "cell_type": "code",
   "execution_count": null,
   "id": "a9cb641c",
   "metadata": {},
   "outputs": [],
   "source": []
  }
 ],
 "metadata": {
  "kernelspec": {
   "display_name": "Python 3 (ipykernel)",
   "language": "python",
   "name": "python3"
  },
  "language_info": {
   "codemirror_mode": {
    "name": "ipython",
    "version": 3
   },
   "file_extension": ".py",
   "mimetype": "text/x-python",
   "name": "python",
   "nbconvert_exporter": "python",
   "pygments_lexer": "ipython3",
   "version": "3.9.7"
  }
 },
 "nbformat": 4,
 "nbformat_minor": 5
}
